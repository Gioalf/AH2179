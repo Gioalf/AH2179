{
  "nbformat": 4,
  "nbformat_minor": 0,
  "metadata": {
    "colab": {
      "provenance": [],
      "authorship_tag": "ABX9TyOf6Sazmihu5W6jbNuAnQkZ",
      "include_colab_link": true
    },
    "kernelspec": {
      "name": "python3",
      "display_name": "Python 3"
    },
    "language_info": {
      "name": "python"
    }
  },
  "cells": [
    {
      "cell_type": "markdown",
      "metadata": {
        "id": "view-in-github",
        "colab_type": "text"
      },
      "source": [
        "<a href=\"https://colab.research.google.com/github/Gioalf/AH2179/blob/main/AIprojectGioAlf.ipynb\" target=\"_parent\"><img src=\"https://colab.research.google.com/assets/colab-badge.svg\" alt=\"Open In Colab\"/></a>"
      ]
    },
    {
      "cell_type": "markdown",
      "source": [
        "# PUBLIC TRANSPORT PROJECT\n",
        "The project will be divided into two parts, in both cases I will create models that estimate the arrival delay at different stages of the trip:\\\n",
        "* **Part A** will have limited available data, it will be missing all the real time data such as `upstream_stop_delay`, `previous_bus_delay`, `previous_trip_travel_time`, and `travel_time_for_previous_section`\n",
        "\n",
        "* **Part B** will have all the available data that will lead to a more accurate prediction."
      ],
      "metadata": {
        "id": "zsmo05AjFyG0"
      }
    },
    {
      "cell_type": "markdown",
      "source": [
        "### METHOD\n",
        "I will use different methods to create prediction models and obtain the best predictions possible, I will then likely use the best model I can get to predict the delays and then check the accuracy of them."
      ],
      "metadata": {
        "id": "I-1T9_MWJ-4m"
      }
    },
    {
      "cell_type": "code",
      "execution_count": null,
      "metadata": {
        "id": "BvBRpUXFkuBe"
      },
      "outputs": [],
      "source": []
    }
  ]
}